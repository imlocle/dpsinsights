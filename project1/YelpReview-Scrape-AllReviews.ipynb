{
 "cells": [
  {
   "cell_type": "code",
   "execution_count": 1,
   "metadata": {
    "collapsed": true
   },
   "outputs": [],
   "source": [
    "# yelp scraping project\n",
    "import requests\n",
    "import json\n",
    "import pandas as pd\n",
    "import numpy as np\n",
    "\n",
    "from bs4 import BeautifulSoup\n",
    "import requests\n",
    "\n",
    "from IPython.core.interactiveshell import InteractiveShell\n",
    "InteractiveShell.ast_node_interactivity = \"all\"\n",
    "\n",
    "import pandas as pd\n",
    "import re\n",
    "\n",
    "%matplotlib inline\n",
    "import matplotlib.pyplot as plt\n",
    "plt.style.use('fivethirtyeight')\n",
    "\n",
    "import warnings\n",
    "warnings.filterwarnings('ignore')"
   ]
  },
  {
   "cell_type": "code",
   "execution_count": 2,
   "metadata": {},
   "outputs": [
    {
     "name": "stdout",
     "output_type": "stream",
     "text": [
      "height has been deprecated.\n",
      "\n"
     ]
    }
   ],
   "source": [
    "pd.set_option('display.height', 1000)\n",
    "pd.set_option('display.max_rows', 500)\n",
    "pd.set_option('display.max_columns', 2500)\n",
    "pd.set_option('display.width', 1000)"
   ]
  },
  {
   "cell_type": "code",
   "execution_count": 3,
   "metadata": {
    "collapsed": true
   },
   "outputs": [],
   "source": [
    "# hard code this section to scrape multiple pages for reviews\n",
    "main = 'https://www.yelp.com/biz/harbor-barber-huntington-beach-3'\n",
    "url = [main,\n",
    "       main + '?start=20',\n",
    "       main + '?start=40',\n",
    "       main + '?start=60',\n",
    "       main + '?start=80',\n",
    "       main + '?start=100',\n",
    "       main + '?start=120',\n",
    "       main + '?start=140',\n",
    "       main + '?start=160',]\n",
    "#        main + '?start=180',]\n",
    "#       main + '?start=200',\n",
    "#       main + '?start=220',\n",
    "#       main + '?start=240',\n",
    "#       main + '?start=260',\n",
    "#       main + '?start=280',\n",
    "#       main + '?start=300',]"
   ]
  },
  {
   "cell_type": "code",
   "execution_count": 4,
   "metadata": {},
   "outputs": [
    {
     "name": "stdout",
     "output_type": "stream",
     "text": [
      "https://www.yelp.com/biz/harbor-barber-huntington-beach-3\n",
      "https://www.yelp.com/biz/harbor-barber-huntington-beach-3?start=20\n",
      "https://www.yelp.com/biz/harbor-barber-huntington-beach-3?start=40\n",
      "https://www.yelp.com/biz/harbor-barber-huntington-beach-3?start=60\n",
      "https://www.yelp.com/biz/harbor-barber-huntington-beach-3?start=80\n",
      "https://www.yelp.com/biz/harbor-barber-huntington-beach-3?start=100\n",
      "https://www.yelp.com/biz/harbor-barber-huntington-beach-3?start=120\n",
      "https://www.yelp.com/biz/harbor-barber-huntington-beach-3?start=140\n",
      "https://www.yelp.com/biz/harbor-barber-huntington-beach-3?start=160\n"
     ]
    }
   ],
   "source": [
    "for i in url:\n",
    "    print (i)"
   ]
  },
  {
   "cell_type": "markdown",
   "metadata": {},
   "source": [
    "# Start Review Section"
   ]
  },
  {
   "cell_type": "code",
   "execution_count": 5,
   "metadata": {
    "collapsed": true
   },
   "outputs": [],
   "source": [
    "reviews = []"
   ]
  },
  {
   "cell_type": "code",
   "execution_count": 6,
   "metadata": {
    "collapsed": true
   },
   "outputs": [],
   "source": [
    "def get_review_content(url):\n",
    "    for i in url:\n",
    "        response = requests.get(i)\n",
    "        soup = BeautifulSoup(response.text, 'html.parser')\n",
    "        \n",
    "        rc_unstripped = soup.find_all(attrs={'class': 'review-content'})\n",
    "        rc_length = (len(rc_unstripped))\n",
    "        \n",
    "        for i in range (0, rc_length):\n",
    "            reviews.append(rc_unstripped[i].text.strip())       "
   ]
  },
  {
   "cell_type": "code",
   "execution_count": 7,
   "metadata": {
    "collapsed": true
   },
   "outputs": [],
   "source": [
    "# Run the function\n",
    "get_review_content(url)"
   ]
  },
  {
   "cell_type": "code",
   "execution_count": 8,
   "metadata": {},
   "outputs": [
    {
     "name": "stdout",
     "output_type": "stream",
     "text": [
      "178\n"
     ]
    }
   ],
   "source": [
    "print(len(reviews))"
   ]
  },
  {
   "cell_type": "code",
   "execution_count": 9,
   "metadata": {
    "scrolled": true
   },
   "outputs": [
    {
     "name": "stdout",
     "output_type": "stream",
     "text": [
      "3/22/2018\n",
      "    \n",
      "\n",
      "\n",
      "\n",
      "\n",
      "\n",
      "\n",
      "\n",
      "\n",
      "1 check-in\n",
      "        \n",
      "\n",
      "\n",
      "They fixed my son's hair after another barber shop sort of butchered it. They were funny, really nice and gave him a great haircut, even offered him root beer. :) I think this is the new barber shop!\n",
      "\n",
      "\n",
      "\n",
      "\n",
      "\n",
      "\n",
      "\n",
      "\n",
      "Good reading while we wait for a cut :)\n",
      "\n",
      "\n",
      "Good reading while we wait for a cut :)\n"
     ]
    }
   ],
   "source": [
    "print(reviews[2])"
   ]
  },
  {
   "cell_type": "code",
   "execution_count": 10,
   "metadata": {},
   "outputs": [
    {
     "data": {
      "text/plain": [
       "0    1/3/2018\\n    \\n\\n\\n\\n\\n\\n\\n\\n\\n1 check-in\\n  ...\n",
       "1    4/8/2018\\n    \\n\\nAmber and the staff are grea...\n",
       "2    3/22/2018\\n    \\n\\n\\n\\n\\n\\n\\n\\n\\n1 check-in\\n ...\n",
       "3    4/9/2018\\n    \\n\\nMike is the man.  I've been ...\n",
       "4    3/31/2018\\n    \\n\\nEven my beard was giddy to ...\n",
       "dtype: object"
      ]
     },
     "execution_count": 10,
     "metadata": {},
     "output_type": "execute_result"
    }
   ],
   "source": [
    "# convert reviews to pd series\n",
    "reviews_s = pd.Series(reviews)\n",
    "reviews_s.head()"
   ]
  },
  {
   "cell_type": "code",
   "execution_count": 11,
   "metadata": {
    "collapsed": true
   },
   "outputs": [],
   "source": [
    "# create a pandas df from reviews\n",
    "data = {'Reviews' : reviews_s}\n",
    "\n",
    "df = pd.DataFrame.from_dict(data)\n",
    "df = df[['Reviews']]    "
   ]
  },
  {
   "cell_type": "code",
   "execution_count": 12,
   "metadata": {},
   "outputs": [
    {
     "data": {
      "text/html": [
       "<div>\n",
       "<style>\n",
       "    .dataframe thead tr:only-child th {\n",
       "        text-align: right;\n",
       "    }\n",
       "\n",
       "    .dataframe thead th {\n",
       "        text-align: left;\n",
       "    }\n",
       "\n",
       "    .dataframe tbody tr th {\n",
       "        vertical-align: top;\n",
       "    }\n",
       "</style>\n",
       "<table border=\"1\" class=\"dataframe\">\n",
       "  <thead>\n",
       "    <tr style=\"text-align: right;\">\n",
       "      <th></th>\n",
       "      <th>Reviews</th>\n",
       "    </tr>\n",
       "  </thead>\n",
       "  <tbody>\n",
       "    <tr>\n",
       "      <th>0</th>\n",
       "      <td>1/3/2018\\n    \\n\\n\\n\\n\\n\\n\\n\\n\\n1 check-in\\n  ...</td>\n",
       "    </tr>\n",
       "    <tr>\n",
       "      <th>1</th>\n",
       "      <td>4/8/2018\\n    \\n\\nAmber and the staff are grea...</td>\n",
       "    </tr>\n",
       "    <tr>\n",
       "      <th>2</th>\n",
       "      <td>3/22/2018\\n    \\n\\n\\n\\n\\n\\n\\n\\n\\n1 check-in\\n ...</td>\n",
       "    </tr>\n",
       "    <tr>\n",
       "      <th>3</th>\n",
       "      <td>4/9/2018\\n    \\n\\nMike is the man.  I've been ...</td>\n",
       "    </tr>\n",
       "    <tr>\n",
       "      <th>4</th>\n",
       "      <td>3/31/2018\\n    \\n\\nEven my beard was giddy to ...</td>\n",
       "    </tr>\n",
       "  </tbody>\n",
       "</table>\n",
       "</div>"
      ],
      "text/plain": [
       "                                             Reviews\n",
       "0  1/3/2018\\n    \\n\\n\\n\\n\\n\\n\\n\\n\\n1 check-in\\n  ...\n",
       "1  4/8/2018\\n    \\n\\nAmber and the staff are grea...\n",
       "2  3/22/2018\\n    \\n\\n\\n\\n\\n\\n\\n\\n\\n1 check-in\\n ...\n",
       "3  4/9/2018\\n    \\n\\nMike is the man.  I've been ...\n",
       "4  3/31/2018\\n    \\n\\nEven my beard was giddy to ..."
      ]
     },
     "execution_count": 12,
     "metadata": {},
     "output_type": "execute_result"
    }
   ],
   "source": [
    "df.head()"
   ]
  },
  {
   "cell_type": "code",
   "execution_count": 13,
   "metadata": {
    "collapsed": true
   },
   "outputs": [],
   "source": [
    "# split date and reviews\n",
    "df['Date'] = df.Reviews.str.split('\\n').str.get(0)\n",
    "df['Review'] = df.Reviews.str.split('\\n\\n').str.get(1)"
   ]
  },
  {
   "cell_type": "code",
   "execution_count": 14,
   "metadata": {
    "collapsed": true
   },
   "outputs": [],
   "source": [
    "# drop Reviews column\n",
    "df.drop('Reviews', axis=1, inplace=True)"
   ]
  },
  {
   "cell_type": "code",
   "execution_count": 15,
   "metadata": {},
   "outputs": [
    {
     "data": {
      "text/html": [
       "<div>\n",
       "<style>\n",
       "    .dataframe thead tr:only-child th {\n",
       "        text-align: right;\n",
       "    }\n",
       "\n",
       "    .dataframe thead th {\n",
       "        text-align: left;\n",
       "    }\n",
       "\n",
       "    .dataframe tbody tr th {\n",
       "        vertical-align: top;\n",
       "    }\n",
       "</style>\n",
       "<table border=\"1\" class=\"dataframe\">\n",
       "  <thead>\n",
       "    <tr style=\"text-align: right;\">\n",
       "      <th></th>\n",
       "      <th>Date</th>\n",
       "      <th>Review</th>\n",
       "    </tr>\n",
       "  </thead>\n",
       "  <tbody>\n",
       "    <tr>\n",
       "      <th>0</th>\n",
       "      <td>1/3/2018</td>\n",
       "      <td></td>\n",
       "    </tr>\n",
       "    <tr>\n",
       "      <th>1</th>\n",
       "      <td>4/8/2018</td>\n",
       "      <td>Amber and the staff are great. Easy going plac...</td>\n",
       "    </tr>\n",
       "    <tr>\n",
       "      <th>2</th>\n",
       "      <td>3/22/2018</td>\n",
       "      <td></td>\n",
       "    </tr>\n",
       "    <tr>\n",
       "      <th>3</th>\n",
       "      <td>4/9/2018</td>\n",
       "      <td>Mike is the man.  I've been going to him for y...</td>\n",
       "    </tr>\n",
       "    <tr>\n",
       "      <th>4</th>\n",
       "      <td>3/31/2018</td>\n",
       "      <td>Even my beard was giddy to get its first trim!...</td>\n",
       "    </tr>\n",
       "  </tbody>\n",
       "</table>\n",
       "</div>"
      ],
      "text/plain": [
       "        Date                                             Review\n",
       "0   1/3/2018                                                   \n",
       "1   4/8/2018  Amber and the staff are great. Easy going plac...\n",
       "2  3/22/2018                                                   \n",
       "3   4/9/2018  Mike is the man.  I've been going to him for y...\n",
       "4  3/31/2018  Even my beard was giddy to get its first trim!..."
      ]
     },
     "execution_count": 15,
     "metadata": {},
     "output_type": "execute_result"
    }
   ],
   "source": [
    "df.head()"
   ]
  },
  {
   "cell_type": "code",
   "execution_count": 16,
   "metadata": {},
   "outputs": [
    {
     "data": {
      "text/html": [
       "<div>\n",
       "<style>\n",
       "    .dataframe thead tr:only-child th {\n",
       "        text-align: right;\n",
       "    }\n",
       "\n",
       "    .dataframe thead th {\n",
       "        text-align: left;\n",
       "    }\n",
       "\n",
       "    .dataframe tbody tr th {\n",
       "        vertical-align: top;\n",
       "    }\n",
       "</style>\n",
       "<table border=\"1\" class=\"dataframe\">\n",
       "  <thead>\n",
       "    <tr style=\"text-align: right;\">\n",
       "      <th></th>\n",
       "      <th>Date</th>\n",
       "      <th>Review</th>\n",
       "    </tr>\n",
       "  </thead>\n",
       "  <tbody>\n",
       "    <tr>\n",
       "      <th>173</th>\n",
       "      <td>12/17/2014</td>\n",
       "      <td>First visit in and i can't ask for anything mo...</td>\n",
       "    </tr>\n",
       "    <tr>\n",
       "      <th>174</th>\n",
       "      <td>10/10/2014</td>\n",
       "      <td>best barber shop around! greg and jason are gr...</td>\n",
       "    </tr>\n",
       "    <tr>\n",
       "      <th>175</th>\n",
       "      <td>7/11/2014</td>\n",
       "      <td>FINALLY, A GENTLEMAN'S BARBER SHOP.  No air ho...</td>\n",
       "    </tr>\n",
       "    <tr>\n",
       "      <th>176</th>\n",
       "      <td>7/6/2014</td>\n",
       "      <td>NaN</td>\n",
       "    </tr>\n",
       "    <tr>\n",
       "      <th>177</th>\n",
       "      <td>6/22/2014</td>\n",
       "      <td>My husband and son both get their hair cut her...</td>\n",
       "    </tr>\n",
       "  </tbody>\n",
       "</table>\n",
       "</div>"
      ],
      "text/plain": [
       "           Date                                             Review\n",
       "173  12/17/2014  First visit in and i can't ask for anything mo...\n",
       "174  10/10/2014  best barber shop around! greg and jason are gr...\n",
       "175   7/11/2014  FINALLY, A GENTLEMAN'S BARBER SHOP.  No air ho...\n",
       "176    7/6/2014                                                NaN\n",
       "177   6/22/2014  My husband and son both get their hair cut her..."
      ]
     },
     "execution_count": 16,
     "metadata": {},
     "output_type": "execute_result"
    }
   ],
   "source": [
    "# delete NaN rows\n",
    "df2 = df.replace(r\"\", np.nan)\n",
    "df2.tail()"
   ]
  },
  {
   "cell_type": "code",
   "execution_count": 17,
   "metadata": {},
   "outputs": [
    {
     "data": {
      "text/html": [
       "<div>\n",
       "<style>\n",
       "    .dataframe thead tr:only-child th {\n",
       "        text-align: right;\n",
       "    }\n",
       "\n",
       "    .dataframe thead th {\n",
       "        text-align: left;\n",
       "    }\n",
       "\n",
       "    .dataframe tbody tr th {\n",
       "        vertical-align: top;\n",
       "    }\n",
       "</style>\n",
       "<table border=\"1\" class=\"dataframe\">\n",
       "  <thead>\n",
       "    <tr style=\"text-align: right;\">\n",
       "      <th></th>\n",
       "      <th>Date</th>\n",
       "      <th>Review</th>\n",
       "    </tr>\n",
       "  </thead>\n",
       "  <tbody>\n",
       "    <tr>\n",
       "      <th>0</th>\n",
       "      <td>4/8/2018</td>\n",
       "      <td>Amber and the staff are great. Easy going plac...</td>\n",
       "    </tr>\n",
       "    <tr>\n",
       "      <th>1</th>\n",
       "      <td>4/9/2018</td>\n",
       "      <td>Mike is the man.  I've been going to him for y...</td>\n",
       "    </tr>\n",
       "    <tr>\n",
       "      <th>2</th>\n",
       "      <td>3/31/2018</td>\n",
       "      <td>Even my beard was giddy to get its first trim!...</td>\n",
       "    </tr>\n",
       "    <tr>\n",
       "      <th>3</th>\n",
       "      <td>4/7/2018</td>\n",
       "      <td>This place is amazing! We were greeted immedia...</td>\n",
       "    </tr>\n",
       "    <tr>\n",
       "      <th>4</th>\n",
       "      <td>3/2/2018</td>\n",
       "      <td>If you're looking for a quality cut this is th...</td>\n",
       "    </tr>\n",
       "  </tbody>\n",
       "</table>\n",
       "</div>"
      ],
      "text/plain": [
       "        Date                                             Review\n",
       "0   4/8/2018  Amber and the staff are great. Easy going plac...\n",
       "1   4/9/2018  Mike is the man.  I've been going to him for y...\n",
       "2  3/31/2018  Even my beard was giddy to get its first trim!...\n",
       "3   4/7/2018  This place is amazing! We were greeted immedia...\n",
       "4   3/2/2018  If you're looking for a quality cut this is th..."
      ]
     },
     "execution_count": 17,
     "metadata": {},
     "output_type": "execute_result"
    },
    {
     "data": {
      "text/plain": [
       "(138, 2)"
      ]
     },
     "execution_count": 17,
     "metadata": {},
     "output_type": "execute_result"
    }
   ],
   "source": [
    "# drop NaN rows\n",
    "df3 = df2.dropna()\n",
    "\n",
    "# reset index\n",
    "df3.reset_index(drop=True, inplace=True)\n",
    "\n",
    "df3.head()\n",
    "df3.shape"
   ]
  },
  {
   "cell_type": "code",
   "execution_count": 18,
   "metadata": {},
   "outputs": [
    {
     "data": {
      "text/plain": [
       "Date      0\n",
       "Review    0\n",
       "dtype: int64"
      ]
     },
     "execution_count": 18,
     "metadata": {},
     "output_type": "execute_result"
    }
   ],
   "source": [
    "# checks to see if there are any null values\n",
    "df3.isnull().sum()"
   ]
  },
  {
   "cell_type": "markdown",
   "metadata": {},
   "source": [
    "# Pandas DF and Sentiment Section"
   ]
  },
  {
   "cell_type": "code",
   "execution_count": 19,
   "metadata": {
    "collapsed": true
   },
   "outputs": [],
   "source": [
    "from textblob import TextBlob"
   ]
  },
  {
   "cell_type": "code",
   "execution_count": 20,
   "metadata": {},
   "outputs": [
    {
     "data": {
      "text/plain": [
       "'Amber and the staff are great. Easy going place. Highly recommended to anyone in the area'"
      ]
     },
     "execution_count": 20,
     "metadata": {},
     "output_type": "execute_result"
    }
   ],
   "source": [
    "# convert Review column in df3 to list\n",
    "review_list = df3['Review'].tolist()\n",
    "review_list[0]"
   ]
  },
  {
   "cell_type": "code",
   "execution_count": 21,
   "metadata": {},
   "outputs": [
    {
     "data": {
      "text/plain": [
       "138"
      ]
     },
     "execution_count": 21,
     "metadata": {},
     "output_type": "execute_result"
    }
   ],
   "source": [
    "len(review_list)"
   ]
  },
  {
   "cell_type": "code",
   "execution_count": 22,
   "metadata": {
    "collapsed": true
   },
   "outputs": [],
   "source": [
    "sentiment_score = []\n",
    "# iterate through review list\n",
    "for r in review_list:\n",
    "    sentiment = TextBlob(r)\n",
    "    sentiment_score.append(sentiment.sentiment.polarity)"
   ]
  },
  {
   "cell_type": "code",
   "execution_count": 23,
   "metadata": {
    "collapsed": true
   },
   "outputs": [],
   "source": [
    "# convert to series\n",
    "sentiment_score_convert = pd.Series(sentiment_score)"
   ]
  },
  {
   "cell_type": "code",
   "execution_count": 24,
   "metadata": {
    "collapsed": true
   },
   "outputs": [],
   "source": [
    "# add sentiment score to sentiment_df\n",
    "df3.insert(loc=1, column='SentimentScore', value=sentiment_score_convert)"
   ]
  },
  {
   "cell_type": "code",
   "execution_count": 25,
   "metadata": {},
   "outputs": [
    {
     "data": {
      "text/html": [
       "<div>\n",
       "<style>\n",
       "    .dataframe thead tr:only-child th {\n",
       "        text-align: right;\n",
       "    }\n",
       "\n",
       "    .dataframe thead th {\n",
       "        text-align: left;\n",
       "    }\n",
       "\n",
       "    .dataframe tbody tr th {\n",
       "        vertical-align: top;\n",
       "    }\n",
       "</style>\n",
       "<table border=\"1\" class=\"dataframe\">\n",
       "  <thead>\n",
       "    <tr style=\"text-align: right;\">\n",
       "      <th></th>\n",
       "      <th>Date</th>\n",
       "      <th>SentimentScore</th>\n",
       "      <th>Review</th>\n",
       "    </tr>\n",
       "  </thead>\n",
       "  <tbody>\n",
       "    <tr>\n",
       "      <th>0</th>\n",
       "      <td>4/8/2018</td>\n",
       "      <td>0.464444</td>\n",
       "      <td>Amber and the staff are great. Easy going plac...</td>\n",
       "    </tr>\n",
       "    <tr>\n",
       "      <th>1</th>\n",
       "      <td>4/9/2018</td>\n",
       "      <td>0.396429</td>\n",
       "      <td>Mike is the man.  I've been going to him for y...</td>\n",
       "    </tr>\n",
       "    <tr>\n",
       "      <th>2</th>\n",
       "      <td>3/31/2018</td>\n",
       "      <td>0.437500</td>\n",
       "      <td>Even my beard was giddy to get its first trim!...</td>\n",
       "    </tr>\n",
       "    <tr>\n",
       "      <th>3</th>\n",
       "      <td>4/7/2018</td>\n",
       "      <td>0.472821</td>\n",
       "      <td>This place is amazing! We were greeted immedia...</td>\n",
       "    </tr>\n",
       "    <tr>\n",
       "      <th>4</th>\n",
       "      <td>3/2/2018</td>\n",
       "      <td>0.091667</td>\n",
       "      <td>If you're looking for a quality cut this is th...</td>\n",
       "    </tr>\n",
       "  </tbody>\n",
       "</table>\n",
       "</div>"
      ],
      "text/plain": [
       "        Date  SentimentScore                                             Review\n",
       "0   4/8/2018        0.464444  Amber and the staff are great. Easy going plac...\n",
       "1   4/9/2018        0.396429  Mike is the man.  I've been going to him for y...\n",
       "2  3/31/2018        0.437500  Even my beard was giddy to get its first trim!...\n",
       "3   4/7/2018        0.472821  This place is amazing! We were greeted immedia...\n",
       "4   3/2/2018        0.091667  If you're looking for a quality cut this is th..."
      ]
     },
     "execution_count": 25,
     "metadata": {},
     "output_type": "execute_result"
    }
   ],
   "source": [
    "df3.head()"
   ]
  },
  {
   "cell_type": "code",
   "execution_count": 26,
   "metadata": {
    "collapsed": true
   },
   "outputs": [],
   "source": [
    "sentiment = []\n",
    "# iterate through sentiment_score to assign a pos or neg val\n",
    "for s in sentiment_score:\n",
    "    if s > 0:\n",
    "        sentiment.append('Positive')\n",
    "    else:\n",
    "        sentiment.append('Negative')"
   ]
  },
  {
   "cell_type": "code",
   "execution_count": 27,
   "metadata": {},
   "outputs": [
    {
     "name": "stdout",
     "output_type": "stream",
     "text": [
      "138\n",
      "138\n"
     ]
    }
   ],
   "source": [
    "print(len(sentiment_score))\n",
    "print(len(sentiment))"
   ]
  },
  {
   "cell_type": "code",
   "execution_count": 28,
   "metadata": {},
   "outputs": [
    {
     "data": {
      "text/plain": [
       "Date              0\n",
       "SentimentScore    0\n",
       "Review            0\n",
       "dtype: int64"
      ]
     },
     "execution_count": 28,
     "metadata": {},
     "output_type": "execute_result"
    }
   ],
   "source": [
    "# check for null values\n",
    "df3.isnull().sum()"
   ]
  },
  {
   "cell_type": "code",
   "execution_count": 29,
   "metadata": {
    "collapsed": true
   },
   "outputs": [],
   "source": [
    "# convert sentiment to a pandas series\n",
    "sentiment_2 = pd.Series(sentiment)"
   ]
  },
  {
   "cell_type": "code",
   "execution_count": 30,
   "metadata": {
    "collapsed": true
   },
   "outputs": [],
   "source": [
    "# add sentiment score to sentiment_df\n",
    "df3.insert(loc=2, column='Sentiment', value=sentiment_2)"
   ]
  },
  {
   "cell_type": "code",
   "execution_count": 31,
   "metadata": {},
   "outputs": [
    {
     "data": {
      "text/html": [
       "<div>\n",
       "<style>\n",
       "    .dataframe thead tr:only-child th {\n",
       "        text-align: right;\n",
       "    }\n",
       "\n",
       "    .dataframe thead th {\n",
       "        text-align: left;\n",
       "    }\n",
       "\n",
       "    .dataframe tbody tr th {\n",
       "        vertical-align: top;\n",
       "    }\n",
       "</style>\n",
       "<table border=\"1\" class=\"dataframe\">\n",
       "  <thead>\n",
       "    <tr style=\"text-align: right;\">\n",
       "      <th></th>\n",
       "      <th>Date</th>\n",
       "      <th>SentimentScore</th>\n",
       "      <th>Sentiment</th>\n",
       "      <th>Review</th>\n",
       "    </tr>\n",
       "  </thead>\n",
       "  <tbody>\n",
       "    <tr>\n",
       "      <th>0</th>\n",
       "      <td>4/8/2018</td>\n",
       "      <td>0.464444</td>\n",
       "      <td>Positive</td>\n",
       "      <td>Amber and the staff are great. Easy going plac...</td>\n",
       "    </tr>\n",
       "    <tr>\n",
       "      <th>1</th>\n",
       "      <td>4/9/2018</td>\n",
       "      <td>0.396429</td>\n",
       "      <td>Positive</td>\n",
       "      <td>Mike is the man.  I've been going to him for y...</td>\n",
       "    </tr>\n",
       "    <tr>\n",
       "      <th>2</th>\n",
       "      <td>3/31/2018</td>\n",
       "      <td>0.437500</td>\n",
       "      <td>Positive</td>\n",
       "      <td>Even my beard was giddy to get its first trim!...</td>\n",
       "    </tr>\n",
       "    <tr>\n",
       "      <th>3</th>\n",
       "      <td>4/7/2018</td>\n",
       "      <td>0.472821</td>\n",
       "      <td>Positive</td>\n",
       "      <td>This place is amazing! We were greeted immedia...</td>\n",
       "    </tr>\n",
       "    <tr>\n",
       "      <th>4</th>\n",
       "      <td>3/2/2018</td>\n",
       "      <td>0.091667</td>\n",
       "      <td>Positive</td>\n",
       "      <td>If you're looking for a quality cut this is th...</td>\n",
       "    </tr>\n",
       "  </tbody>\n",
       "</table>\n",
       "</div>"
      ],
      "text/plain": [
       "        Date  SentimentScore Sentiment                                             Review\n",
       "0   4/8/2018        0.464444  Positive  Amber and the staff are great. Easy going plac...\n",
       "1   4/9/2018        0.396429  Positive  Mike is the man.  I've been going to him for y...\n",
       "2  3/31/2018        0.437500  Positive  Even my beard was giddy to get its first trim!...\n",
       "3   4/7/2018        0.472821  Positive  This place is amazing! We were greeted immedia...\n",
       "4   3/2/2018        0.091667  Positive  If you're looking for a quality cut this is th..."
      ]
     },
     "execution_count": 31,
     "metadata": {},
     "output_type": "execute_result"
    }
   ],
   "source": [
    "df3.head()"
   ]
  },
  {
   "cell_type": "code",
   "execution_count": 32,
   "metadata": {},
   "outputs": [
    {
     "data": {
      "text/plain": [
       "Positive    135\n",
       "Negative      3\n",
       "Name: Sentiment, dtype: int64"
      ]
     },
     "execution_count": 32,
     "metadata": {},
     "output_type": "execute_result"
    }
   ],
   "source": [
    "# check value counts for Positive and Negative\n",
    "df3.Sentiment.value_counts()"
   ]
  },
  {
   "cell_type": "code",
   "execution_count": 33,
   "metadata": {
    "collapsed": true
   },
   "outputs": [],
   "source": [
    "# convert Sentiment label to a numerical value\n",
    "df3['SentimentNum'] = df3.Sentiment.map({'Positive': 0,\n",
    "                                                 'Negative': 1})"
   ]
  },
  {
   "cell_type": "code",
   "execution_count": 34,
   "metadata": {},
   "outputs": [
    {
     "data": {
      "text/html": [
       "<div>\n",
       "<style>\n",
       "    .dataframe thead tr:only-child th {\n",
       "        text-align: right;\n",
       "    }\n",
       "\n",
       "    .dataframe thead th {\n",
       "        text-align: left;\n",
       "    }\n",
       "\n",
       "    .dataframe tbody tr th {\n",
       "        vertical-align: top;\n",
       "    }\n",
       "</style>\n",
       "<table border=\"1\" class=\"dataframe\">\n",
       "  <thead>\n",
       "    <tr style=\"text-align: right;\">\n",
       "      <th></th>\n",
       "      <th>Date</th>\n",
       "      <th>SentimentScore</th>\n",
       "      <th>Sentiment</th>\n",
       "      <th>Review</th>\n",
       "      <th>SentimentNum</th>\n",
       "    </tr>\n",
       "  </thead>\n",
       "  <tbody>\n",
       "    <tr>\n",
       "      <th>0</th>\n",
       "      <td>4/8/2018</td>\n",
       "      <td>0.464444</td>\n",
       "      <td>Positive</td>\n",
       "      <td>Amber and the staff are great. Easy going plac...</td>\n",
       "      <td>0</td>\n",
       "    </tr>\n",
       "    <tr>\n",
       "      <th>1</th>\n",
       "      <td>4/9/2018</td>\n",
       "      <td>0.396429</td>\n",
       "      <td>Positive</td>\n",
       "      <td>Mike is the man.  I've been going to him for y...</td>\n",
       "      <td>0</td>\n",
       "    </tr>\n",
       "    <tr>\n",
       "      <th>2</th>\n",
       "      <td>3/31/2018</td>\n",
       "      <td>0.437500</td>\n",
       "      <td>Positive</td>\n",
       "      <td>Even my beard was giddy to get its first trim!...</td>\n",
       "      <td>0</td>\n",
       "    </tr>\n",
       "    <tr>\n",
       "      <th>3</th>\n",
       "      <td>4/7/2018</td>\n",
       "      <td>0.472821</td>\n",
       "      <td>Positive</td>\n",
       "      <td>This place is amazing! We were greeted immedia...</td>\n",
       "      <td>0</td>\n",
       "    </tr>\n",
       "    <tr>\n",
       "      <th>4</th>\n",
       "      <td>3/2/2018</td>\n",
       "      <td>0.091667</td>\n",
       "      <td>Positive</td>\n",
       "      <td>If you're looking for a quality cut this is th...</td>\n",
       "      <td>0</td>\n",
       "    </tr>\n",
       "  </tbody>\n",
       "</table>\n",
       "</div>"
      ],
      "text/plain": [
       "        Date  SentimentScore Sentiment                                             Review  SentimentNum\n",
       "0   4/8/2018        0.464444  Positive  Amber and the staff are great. Easy going plac...             0\n",
       "1   4/9/2018        0.396429  Positive  Mike is the man.  I've been going to him for y...             0\n",
       "2  3/31/2018        0.437500  Positive  Even my beard was giddy to get its first trim!...             0\n",
       "3   4/7/2018        0.472821  Positive  This place is amazing! We were greeted immedia...             0\n",
       "4   3/2/2018        0.091667  Positive  If you're looking for a quality cut this is th...             0"
      ]
     },
     "execution_count": 34,
     "metadata": {},
     "output_type": "execute_result"
    },
    {
     "data": {
      "text/html": [
       "<div>\n",
       "<style>\n",
       "    .dataframe thead tr:only-child th {\n",
       "        text-align: right;\n",
       "    }\n",
       "\n",
       "    .dataframe thead th {\n",
       "        text-align: left;\n",
       "    }\n",
       "\n",
       "    .dataframe tbody tr th {\n",
       "        vertical-align: top;\n",
       "    }\n",
       "</style>\n",
       "<table border=\"1\" class=\"dataframe\">\n",
       "  <thead>\n",
       "    <tr style=\"text-align: right;\">\n",
       "      <th></th>\n",
       "      <th>Date</th>\n",
       "      <th>SentimentScore</th>\n",
       "      <th>Sentiment</th>\n",
       "      <th>Review</th>\n",
       "      <th>SentimentNum</th>\n",
       "    </tr>\n",
       "  </thead>\n",
       "  <tbody>\n",
       "    <tr>\n",
       "      <th>133</th>\n",
       "      <td>11/15/2014</td>\n",
       "      <td>0.506169</td>\n",
       "      <td>Positive</td>\n",
       "      <td>Moved to HB from Santa Barbara and while I had...</td>\n",
       "      <td>0</td>\n",
       "    </tr>\n",
       "    <tr>\n",
       "      <th>134</th>\n",
       "      <td>12/17/2014</td>\n",
       "      <td>0.338889</td>\n",
       "      <td>Positive</td>\n",
       "      <td>First visit in and i can't ask for anything mo...</td>\n",
       "      <td>0</td>\n",
       "    </tr>\n",
       "    <tr>\n",
       "      <th>135</th>\n",
       "      <td>10/10/2014</td>\n",
       "      <td>0.648214</td>\n",
       "      <td>Positive</td>\n",
       "      <td>best barber shop around! greg and jason are gr...</td>\n",
       "      <td>0</td>\n",
       "    </tr>\n",
       "    <tr>\n",
       "      <th>136</th>\n",
       "      <td>7/11/2014</td>\n",
       "      <td>0.111667</td>\n",
       "      <td>Positive</td>\n",
       "      <td>FINALLY, A GENTLEMAN'S BARBER SHOP.  No air ho...</td>\n",
       "      <td>0</td>\n",
       "    </tr>\n",
       "    <tr>\n",
       "      <th>137</th>\n",
       "      <td>6/22/2014</td>\n",
       "      <td>0.650000</td>\n",
       "      <td>Positive</td>\n",
       "      <td>My husband and son both get their hair cut her...</td>\n",
       "      <td>0</td>\n",
       "    </tr>\n",
       "  </tbody>\n",
       "</table>\n",
       "</div>"
      ],
      "text/plain": [
       "           Date  SentimentScore Sentiment                                             Review  SentimentNum\n",
       "133  11/15/2014        0.506169  Positive  Moved to HB from Santa Barbara and while I had...             0\n",
       "134  12/17/2014        0.338889  Positive  First visit in and i can't ask for anything mo...             0\n",
       "135  10/10/2014        0.648214  Positive  best barber shop around! greg and jason are gr...             0\n",
       "136   7/11/2014        0.111667  Positive  FINALLY, A GENTLEMAN'S BARBER SHOP.  No air ho...             0\n",
       "137   6/22/2014        0.650000  Positive  My husband and son both get their hair cut her...             0"
      ]
     },
     "execution_count": 34,
     "metadata": {},
     "output_type": "execute_result"
    },
    {
     "data": {
      "text/plain": [
       "(138, 5)"
      ]
     },
     "execution_count": 34,
     "metadata": {},
     "output_type": "execute_result"
    }
   ],
   "source": [
    "df3.head()\n",
    "df3.tail()\n",
    "df3.shape"
   ]
  },
  {
   "cell_type": "code",
   "execution_count": 35,
   "metadata": {},
   "outputs": [
    {
     "data": {
      "text/plain": [
       "0    135\n",
       "1      3\n",
       "Name: SentimentNum, dtype: int64"
      ]
     },
     "execution_count": 35,
     "metadata": {},
     "output_type": "execute_result"
    }
   ],
   "source": [
    "df3.SentimentNum.value_counts()"
   ]
  },
  {
   "cell_type": "code",
   "execution_count": 36,
   "metadata": {},
   "outputs": [
    {
     "data": {
      "text/plain": [
       "'harbor-barber-huntington-beach-3'"
      ]
     },
     "execution_count": 36,
     "metadata": {},
     "output_type": "execute_result"
    }
   ],
   "source": [
    "# extract business name from \"main\" url\n",
    "bizname_split = main.split('https://www.yelp.com/biz/')\n",
    "bizname = bizname_split[1]\n",
    "bizname"
   ]
  },
  {
   "cell_type": "code",
   "execution_count": 37,
   "metadata": {
    "collapsed": true,
    "scrolled": true
   },
   "outputs": [],
   "source": [
    "# save csv to reviews folder to use for NLP\n",
    "df3.to_csv(f'reviews/{bizname}.csv', index=False)"
   ]
  },
  {
   "cell_type": "markdown",
   "metadata": {},
   "source": [
    "# Section for NLTK"
   ]
  },
  {
   "cell_type": "markdown",
   "metadata": {},
   "source": [
    "### Import saved csvs from reviews directory"
   ]
  },
  {
   "cell_type": "code",
   "execution_count": null,
   "metadata": {
    "collapsed": true
   },
   "outputs": [],
   "source": [
    "# Define X and y for use with COUNTVECTORIZE\n",
    "X = df3.Review\n",
    "y = df3.SentimentNum\n",
    "print(X.shape)\n",
    "print(y.shape)"
   ]
  }
 ],
 "metadata": {
  "kernelspec": {
   "display_name": "Python 3",
   "language": "python",
   "name": "python3"
  },
  "language_info": {
   "codemirror_mode": {
    "name": "ipython",
    "version": 3
   },
   "file_extension": ".py",
   "mimetype": "text/x-python",
   "name": "python",
   "nbconvert_exporter": "python",
   "pygments_lexer": "ipython3",
   "version": "3.6.4"
  }
 },
 "nbformat": 4,
 "nbformat_minor": 2
}
